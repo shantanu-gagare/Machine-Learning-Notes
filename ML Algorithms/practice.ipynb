{
 "cells": [
  {
   "cell_type": "code",
   "execution_count": 11,
   "metadata": {},
   "outputs": [],
   "source": [
    "def winner(m, n):\n",
    "    if m == n:\n",
    "        return \"draw\"\n",
    "    \n",
    "    if m == 3 or n == 3:\n",
    "        if m < n:\n",
    "            return 'win'\n",
    "        \n",
    "        else:\n",
    "            return 'lose'\n",
    "        \n",
    "    else:\n",
    "        if m > n:\n",
    "            return 'win'\n",
    "        else:\n",
    "            return 'lose'"
   ]
  },
  {
   "cell_type": "code",
   "execution_count": 16,
   "metadata": {},
   "outputs": [
    {
     "data": {
      "text/plain": [
       "'win'"
      ]
     },
     "execution_count": 16,
     "metadata": {},
     "output_type": "execute_result"
    }
   ],
   "source": [
    "winner(3, 6)"
   ]
  },
  {
   "cell_type": "code",
   "execution_count": null,
   "metadata": {},
   "outputs": [],
   "source": []
  }
 ],
 "metadata": {
  "kernelspec": {
   "display_name": "base",
   "language": "python",
   "name": "python3"
  },
  "language_info": {
   "codemirror_mode": {
    "name": "ipython",
    "version": 3
   },
   "file_extension": ".py",
   "mimetype": "text/x-python",
   "name": "python",
   "nbconvert_exporter": "python",
   "pygments_lexer": "ipython3",
   "version": "3.9.13"
  }
 },
 "nbformat": 4,
 "nbformat_minor": 2
}
